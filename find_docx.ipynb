{
 "cells": [
  {
   "cell_type": "markdown",
   "metadata": {},
   "source": [
    "Procura algum padrão regex em todos os arquivos em um diretório"
   ]
  },
  {
   "cell_type": "code",
   "execution_count": 2,
   "metadata": {},
   "outputs": [],
   "source": [
    "import os\n",
    "from glob import glob\n",
    "import re\n",
    "\n",
    "import docx2txt"
   ]
  },
  {
   "cell_type": "code",
   "execution_count": 2,
   "metadata": {},
   "outputs": [],
   "source": [
    "def find_ext(dr, ext):\n",
    "    return glob(os.path.join(dr, \"**/[A-Z]*.{}\".format(ext)), recursive=True)\n",
    "\n",
    "def convertWorker(filename):\n",
    "    print(filename)\n",
    "    text = docx2txt.process(filename)\n",
    "    f = open(os.path.splitext(filename)[0] + \".txt\", \"w\", encoding=\"utf-8\")\n",
    "    f.write(text)\n",
    "    f.close()\n",
    "    # re_namerule = re.compile(r\"(?<=\\\\)[^\\\\_]+(?=_)\")\n",
    "    # re_revrule = re.compile(r\"(?<=_Rev\\.)\\d+(?=_\\d{8})\")\n",
    "    # identificador = re_namerule.findall(filename)\n",
    "    # revisao = re_revrule.findall(filename)\n",
    "    return filename\n",
    "def convertAll():\n",
    "    for filename in find_ext(os.getcwd(), \"docx\"):\n",
    "        convertWorker(filename)"
   ]
  },
  {
   "cell_type": "code",
   "execution_count": null,
   "metadata": {},
   "outputs": [],
   "source": [
    "convertAll()"
   ]
  },
  {
   "cell_type": "code",
   "execution_count": null,
   "metadata": {},
   "outputs": [],
   "source": [
    "def regexWorker(txtfilename, re_input):\n",
    "    txt_file = open(txtfilename, \"r\", encoding=\"utf-8\")\n",
    "    text = txt_file.read()\n",
    "    txt_file.close()\n",
    "    x = re_input.findall(text)\n",
    "    if x:\n",
    "        # filename = filename.split('\\\\')[-1]\n",
    "        # return filename\n",
    "        print(txtfilename.split('\\\\')[-1])\n",
    "\n",
    "# def search_regex(input_string):\n",
    "#     re_input = re.compile(input_string, re.I)\n",
    "#     results = []\n",
    "#     with mp.Pool(processes=6) as pool:\n",
    "#         for txtfilename in find_ext(os.getcwd(), \"txt\"):\n",
    "#             result = pool.apply_async(regexWorker, (txtfilename, re_input))\n",
    "#             results.append(result)\n",
    "#         for result in results:\n",
    "#             print(result.get())\n",
    "\n",
    "def search_regex(input_string):\n",
    "    re_input = re.compile(input_string, re.I)\n",
    "    for txtfilename in find_ext(os.getcwd(), \"txt\"):\n",
    "        regexWorker(txtfilename, re_input)"
   ]
  },
  {
   "cell_type": "markdown",
   "metadata": {},
   "source": [
    "### Busca ocorrências de CTRR em arquivos vigentes"
   ]
  },
  {
   "cell_type": "code",
   "execution_count": null,
   "metadata": {},
   "outputs": [
    {
     "name": "stdout",
     "output_type": "stream",
     "text": [
      "CD-CT.SE.5RJ.02_Rev.136.txt\n",
      "CD-CT.SE.5RJ.03_Rev.18.txt\n",
      "CD-CT.SE.5SE.03_Rev.18.txt\n",
      "IO-ON.ECC_Rev.46.txt\n",
      "IO-ON.SSE_Rev.137.txt\n",
      "IO-ON.SE.3SP_Rev.100.txt\n",
      "IO-ON.SE.5RJ_Rev.163.txt\n",
      "IO-ON.SE.5SE_Rev.74.txt\n",
      "IO-EE.ECC_Rev.14.txt\n",
      "IO-EE.SSE_Rev.73.txt\n",
      "IO-EE.SE.3SP_Rev.70.txt\n",
      "IO-EE.SE.5RJ_Rev.106.txt\n",
      "IO-PM.SSE_Rev.88.txt\n",
      "IO-PM.SE.3SP_Rev.105.txt\n",
      "IO-PM.SE.5MG_Rev.192.txt\n",
      "IO-PM.SE.5RJ_Rev.148.txt\n",
      "IO-PM.SE.5SE_Rev.78.txt\n",
      "IO-OC.ECC_Rev.33.txt\n",
      "IO-OC.SSE_Rev.109.txt\n",
      "IO-OC.SE.3SP_Rev.117.txt\n",
      "IO-OC.SE.4SP_Rev.122.txt\n",
      "IO-OC.SE.5RJ_Rev.134.txt\n",
      "IO-RR.SSE_Rev.37.txt\n",
      "IO-RR.SE.FTN_Rev.10.txt\n",
      "IO-RR.SE.ILS_Rev.36.txt\n",
      "IO-RR.SE.LCB_Rev.52.txt\n",
      "IO-RR.SE.MAR_Rev.54.txt\n",
      "IO-RR.SE_Rev.106.txt\n",
      "IO-OI.S.STFS_Rev.04.txt\n",
      "IO-OI.S.STIV_Rev.05.txt\n",
      "IO-OI.SE.STIA_Rev.05.txt\n",
      "IO-OI.SE.STTP_Rev.20.txt\n",
      "IO-OI.SE.FDI_Rev.11.txt\n",
      "IO-OI.SE.STCA_Rev.16.txt\n",
      "IO-OI.SE.STCH_Rev.26.txt\n",
      "IO-OI.SE.STTB_Rev.15.txt\n",
      "IO-OI.SE.CPJ_Rev.01.txt\n",
      "IO-OI.SE.CSA_Rev.04.txt\n",
      "IO-OI.SE.LGO_Rev.02.txt\n",
      "IO-OI.SE.MASC_Rev.14.txt\n",
      "IO-OI.SE.NVI_Rev.16.txt\n",
      "IO-OI.SE.SEVP_Rev.08.txt\n",
      "IO-OI.SE.SRNS_Rev.03.txt\n",
      "IO-OI.SE.STAD_Rev.27.txt\n",
      "IO-OI.SE.STAN_Rev.10.txt\n",
      "IO-OI.SE.STBF_Rev.02.txt\n",
      "IO-OI.SE.STCM_Rev.21.txt\n",
      "IO-OI.SE.STGR_Rev.18.txt\n",
      "IO-OI.SE.STIR_Rev.04.txt\n",
      "IO-OI.SE.STJP_Rev.19.txt\n",
      "IO-OI.SE.STLN_Rev.04.txt\n",
      "IO-OI.SE.STMH_Rev.12.txt\n",
      "IO-OI.SE.STRL_Rev.08.txt\n",
      "IO-OI.SE.STRS_Rev.08.txt\n",
      "IO-OI.SE.STSJ_Rev.13.txt\n",
      "IO-OI.SE.STVA_Rev.10.txt\n",
      "IO-OI.SE.STVT_Rev.16.txt\n",
      "IO-OI.SE.STZO_Rev.09.txt\n",
      "IO-OI.SE.TRIO_Rev.08.txt\n",
      "IO-OI.SE.UHSI_Rev.04.txt\n",
      "IO-OI.SE.USCP_Rev.03.txt\n",
      "IO-OI.SE.USFL_Rev.07.txt\n",
      "IO-OI.SE.USSC_Rev.13.txt\n",
      "IO-OI.SE.UTN1_Rev.03.txt\n",
      "IO-OI.SE.UTN2_Rev.03.txt\n",
      "IO-OI.SE.UTRI_Rev.04.txt\n",
      "IO-OI.SE.JAG_Rev.08.txt\n",
      "IO-OI.SE.TAU_Rev.26.txt\n",
      "IO-OI.SE.ANHs_Rev.20.txt\n",
      "IO-OI.SE.ATI2_Rev.08.txt\n",
      "IO-OI.SE.LES_Rev.12.txt\n",
      "IO-OI.SE.NOR_Rev.21.txt\n",
      "IO-OI.SE.STGA_Rev.16.txt\n",
      "IO-OI.SE.STIN_Rev.11.txt\n",
      "IO-OI.SE.STMO_Rev.19.txt\n",
      "IO-OI.S.BTA_Rev.57.txt\n",
      "AO-AJ.SE.UHAT_Rev.02.txt\n"
     ]
    }
   ],
   "source": [
    "search_regex(r\"\\WCTRR\\W\")"
   ]
  },
  {
   "cell_type": "code",
   "execution_count": null,
   "metadata": {},
   "outputs": [],
   "source": [
    "### Busca ocorrências de CTRM em arquvos vigentes"
   ]
  },
  {
   "cell_type": "code",
   "execution_count": null,
   "metadata": {},
   "outputs": [],
   "source": [
    "search_regex(r\"\\WCTRM\\W\")"
   ]
  },
  {
   "cell_type": "code",
   "execution_count": null,
   "metadata": {},
   "outputs": [
    {
     "name": "stdout",
     "output_type": "stream",
     "text": [
      "CD-CT.SE.5MG.01_Rev.171.txt\n",
      "IO-ON.SE.3RG_Rev.87.txt\n",
      "IO-ON.SE.5MG_Rev.187.txt\n",
      "IO-ON.SE.5SE_Rev.74.txt\n",
      "IO-EE.SE.5MG_Rev.121.txt\n",
      "IO-PM.SE.3SP_Rev.105.txt\n",
      "IO-PM.SE.5MG_Rev.192.txt\n",
      "IO-PM.SE.5RJ_Rev.148.txt\n",
      "IO-OC.SE.3SP_Rev.117.txt\n",
      "IO-RR.SE.MAR_Rev.54.txt\n",
      "IO-RR.SE_Rev.106.txt\n",
      "IO-RR.CO.IMT_Rev.52.txt\n",
      "IO-OI.SE.JAG_Rev.08.txt\n",
      "IO-OI.SE.NOR_Rev.21.txt\n",
      "IO-OI.SE.UBAG_Rev.06.txt\n",
      "IO-OI.SE.UHRB_Rev.06.txt\n",
      "IO-OI.SE.USCL_Rev.18.txt\n",
      "IO-OI.S.BTA_Rev.57.txt\n"
     ]
    }
   ],
   "source": [
    "search_regex(r\"\\WCTOS\\W\")"
   ]
  },
  {
   "cell_type": "code",
   "execution_count": null,
   "metadata": {},
   "outputs": [
    {
     "name": "stdout",
     "output_type": "stream",
     "text": [
      "CD-CT.SE.5RJ.01_Rev.135.txt\n",
      "CD-CT.NE.2LE.01_Rev.28.txt\n",
      "CD-CT.NE.2NO.01_Rev.84.txt\n",
      "CD-CT.NE.2SL.01_Rev.27.txt\n",
      "CD-CT.N.5MM.01_Rev.49.txt\n",
      "CD-CT.N.5RR.01_Rev.17.txt\n",
      "CD-CT.S.2RS.01_Rev.253.txt\n",
      "CD-CT.S.2SC.01_Rev.157.txt\n",
      "CD-CT.S.5SU.01_Rev.127.txt\n",
      "CD-CT.CO.2MS.01_Rev.45.txt\n",
      "CD-CT.CO.5GB.01_Rev.111.txt\n",
      "IO-OI.NE.UPT_Rev.08.txt\n",
      "IO-OI.NE.UPU_Rev.08.txt\n",
      "IO-OI.NE.UTN_Rev.08.txt\n",
      "IO-OI.NE.UTP_Rev.08.txt\n",
      "IO-OI.NE.UTSD_Rev.12.txt\n",
      "IO-OI.NE.UGD_Rev.10.txt\n",
      "IO-OI.NE.UGU_Rev.09.txt\n",
      "IO-OI.S.UTEC_Rev.11.txt\n"
     ]
    }
   ],
   "source": [
    "search_regex(r\"Óleo Diesel\")"
   ]
  },
  {
   "cell_type": "code",
   "execution_count": null,
   "metadata": {},
   "outputs": [
    {
     "name": "stdout",
     "output_type": "stream",
     "text": [
      "CD-CT.N.5RR.01_Rev.17.txt\n"
     ]
    }
   ],
   "source": [
    "search_regex(r\"Óleo Vegetal\")"
   ]
  },
  {
   "cell_type": "code",
   "execution_count": null,
   "metadata": {},
   "outputs": [
    {
     "name": "stdout",
     "output_type": "stream",
     "text": [
      "CD-CT.NE.2SL.01_Rev.27.txt\n",
      "CD-CT.N.5RR.01_Rev.17.txt\n"
     ]
    }
   ],
   "source": [
    "search_regex(r\"Cavaco de Madeira\")"
   ]
  }
 ],
 "metadata": {
  "kernelspec": {
   "display_name": "Python 3",
   "language": "python",
   "name": "python3"
  },
  "language_info": {
   "codemirror_mode": {
    "name": "ipython",
    "version": 3
   },
   "file_extension": ".py",
   "mimetype": "text/x-python",
   "name": "python",
   "nbconvert_exporter": "python",
   "pygments_lexer": "ipython3",
   "version": "3.12.4"
  }
 },
 "nbformat": 4,
 "nbformat_minor": 2
}
