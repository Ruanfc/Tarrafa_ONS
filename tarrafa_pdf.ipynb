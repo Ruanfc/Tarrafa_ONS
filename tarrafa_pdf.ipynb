{
 "cells": [
  {
   "cell_type": "code",
   "execution_count": 1,
   "metadata": {},
   "outputs": [],
   "source": [
    "from os import path\n",
    "from glob import glob\n",
    "from pdfminer.high_level import extract_text\n",
    "from pdfminer.layout import LAParams\n",
    "import re"
   ]
  },
  {
   "cell_type": "code",
   "execution_count": 2,
   "metadata": {},
   "outputs": [],
   "source": [
    "def find_ext(dr, ext):\n",
    "    return glob(path.join(dr, \"*.{}\".format(ext)))"
   ]
  },
  {
   "cell_type": "code",
   "execution_count": 3,
   "metadata": {},
   "outputs": [
    {
     "ename": "NameError",
     "evalue": "name 'pdf_name' is not defined",
     "output_type": "error",
     "traceback": [
      "\u001b[1;31m---------------------------------------------------------------------------\u001b[0m",
      "\u001b[1;31mNameError\u001b[0m                                 Traceback (most recent call last)",
      "Cell \u001b[1;32mIn[3], line 9\u001b[0m\n\u001b[0;32m      2\u001b[0m \u001b[38;5;66;03m#pdf_name = \".\\\\IO-OC.NE.2NO_Rev.144.pdf\"\u001b[39;00m\n\u001b[0;32m      3\u001b[0m \u001b[38;5;66;03m#pdf_name = \".\\\\IO-RR.NE.ESTR_Rev.21.pdf\"\u001b[39;00m\n\u001b[0;32m      4\u001b[0m \u001b[38;5;66;03m#pdf_name = \".\\\\IO-RR.NE.SBOE_Rev.38.pdf\"\u001b[39;00m\n\u001b[0;32m      5\u001b[0m \u001b[38;5;66;03m#pdf_name = \".\\\\IO-RR.NE.ULG_Rev.49.pdf\"\u001b[39;00m\n\u001b[0;32m      6\u001b[0m \u001b[38;5;66;03m#pdf_name = \".\\\\CD-CT.NE.2OE.01_Rev.49.pdf\"\u001b[39;00m\n\u001b[0;32m      7\u001b[0m \u001b[38;5;66;03m#lap = LAParams(detect_vertical=True, all_texts=True)\u001b[39;00m\n\u001b[0;32m      8\u001b[0m lap \u001b[38;5;241m=\u001b[39m LAParams(detect_vertical\u001b[38;5;241m=\u001b[39m\u001b[38;5;28;01mTrue\u001b[39;00m)\n\u001b[1;32m----> 9\u001b[0m text \u001b[38;5;241m=\u001b[39m extract_text(\u001b[43mpdf_name\u001b[49m, laparams\u001b[38;5;241m=\u001b[39m lap)\n\u001b[0;32m     10\u001b[0m extract_text\n\u001b[0;32m     11\u001b[0m text \u001b[38;5;241m=\u001b[39m text\u001b[38;5;241m.\u001b[39mupper()\n",
      "\u001b[1;31mNameError\u001b[0m: name 'pdf_name' is not defined"
     ]
    }
   ],
   "source": [
    "io_list = []\n",
    "#pdf_name = \".\\\\IO-OC.NE.2NO_Rev.144.pdf\"\n",
    "#pdf_name = \".\\\\IO-RR.NE.ESTR_Rev.21.pdf\"\n",
    "#pdf_name = \".\\\\IO-RR.NE.SBOE_Rev.38.pdf\"\n",
    "#pdf_name = \".\\\\IO-RR.NE.ULG_Rev.49.pdf\"\n",
    "#pdf_name = \".\\\\CD-CT.NE.2OE.01_Rev.49.pdf\"\n",
    "#lap = LAParams(detect_vertical=True, all_texts=True)\n",
    "lap = LAParams(detect_vertical=True)\n",
    "text = extract_text(pdf_name, laparams= lap)\n",
    "extract_text\n",
    "text = text.upper()\n",
    "pdf_name = pdf_name.split(\"_\")[0]\n",
    "x = re.findall(\"\\W+CRON\\W+\", text)\n",
    "if x:\n",
    "    io_list.append(pdf_name)\n",
    "    print(pdf_name)"
   ]
  },
  {
   "cell_type": "code",
   "execution_count": 78,
   "metadata": {},
   "outputs": [
    {
     "name": "stdout",
     "output_type": "stream",
     "text": [
      "./cadastros\\CD-CT.NE.2NO.02\n",
      "./cadastros\\CD-CT.NE.2NO.03\n"
     ]
    }
   ],
   "source": [
    "# Cadastros operacionais\n",
    "io_list = []\n",
    "lap = LAParams(detect_vertical=True)\n",
    "for pdf_name in find_ext(\"./cadastros\", \"pdf\"):\n",
    "    text = extract_text(pdf_name, laparams= lap)\n",
    "    text = text.upper()\n",
    "    pdf_name = pdf_name.split(\"_\")[0]\n",
    "    x = re.findall(\"\\WCRON\\W\", text)\n",
    "    if x:\n",
    "        io_list.append(pdf_name)\n",
    "        print(pdf_name)\n"
   ]
  },
  {
   "cell_type": "code",
   "execution_count": 75,
   "metadata": {},
   "outputs": [
    {
     "data": {
      "text/plain": [
       "['.\\\\IO-RR.NE.SBOE']"
      ]
     },
     "execution_count": 75,
     "metadata": {},
     "output_type": "execute_result"
    }
   ],
   "source": [
    "io_list"
   ]
  }
 ],
 "metadata": {
  "kernelspec": {
   "display_name": "Python 3",
   "language": "python",
   "name": "python3"
  },
  "language_info": {
   "codemirror_mode": {
    "name": "ipython",
    "version": 3
   },
   "file_extension": ".py",
   "mimetype": "text/x-python",
   "name": "python",
   "nbconvert_exporter": "python",
   "pygments_lexer": "ipython3",
   "version": "3.10.8"
  }
 },
 "nbformat": 4,
 "nbformat_minor": 2
}
